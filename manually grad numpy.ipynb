{
  "nbformat": 4,
  "nbformat_minor": 0,
  "metadata": {
    "colab": {
      "name": "Untitled1.ipynb",
      "provenance": [],
      "authorship_tag": "ABX9TyO2sdmK9VZUfRFTUn7nxlBZ",
      "include_colab_link": true
    },
    "kernelspec": {
      "name": "python3",
      "display_name": "Python 3"
    }
  },
  "cells": [
    {
      "cell_type": "markdown",
      "metadata": {
        "id": "view-in-github",
        "colab_type": "text"
      },
      "source": [
        "<a href=\"https://colab.research.google.com/github/Khiem472/TTNT/blob/master/manually%20grad%20numpy.ipynb\" target=\"_parent\"><img src=\"https://colab.research.google.com/assets/colab-badge.svg\" alt=\"Open In Colab\"/></a>"
      ]
    },
    {
      "cell_type": "code",
      "metadata": {
        "id": "cS1i6qEfpLVf",
        "colab_type": "code",
        "colab": {}
      },
      "source": [
        "import numpy as np\n",
        "N, D_in, H, D_out = 5, 10, 10, 5\n",
        "\n",
        "x = np.random.randn(N, D_in)\n",
        "y = np.random.randn(N, D_out)\n",
        "\n",
        "w1 = np.random.randn(D_in, H)\n",
        "w2 = np.random.randn(H, D_out)\n",
        "\n",
        "learning_rate = 1e-5\n",
        "\n",
        "for t in range(1000):\n",
        "   h = x.dot(w1)\n",
        "   h_relu = np.maximum(h, 0)\n",
        "   pred_y = h_relu.dot(w2)\n",
        "\n",
        "   loss = np.square(pred_y-y).sum()\n",
        "   if t > 900:\n",
        "      print(t, loss)\n",
        "\n",
        "   grad_pred_y = 2 * (pred_y-y)\n",
        "   grad_w2 = h_relu.T.dot(grad_pred_y)\n",
        "   grad_h_relu = grad_pred_y.dot(w2.T)\n",
        "   grad_h = grad_h_relu.copy()\n",
        "   grad_h[h < 0] = 0\n",
        "   grad_w1 = x.T.dot(grad_h)\n",
        "   grad_x = grad_h.dot(w1.T)\n",
        "\n",
        "   w1 = w1 - learning_rate*grad_w1\n",
        "   w2 = w2 - learning_rate*grad_w2\n",
        "\n"
      ],
      "execution_count": null,
      "outputs": []
    }
  ]
}